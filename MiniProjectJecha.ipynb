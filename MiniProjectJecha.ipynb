{
 "cells": [
  {
   "cell_type": "code",
   "execution_count": 138,
   "metadata": {
    "collapsed": false
   },
   "outputs": [],
   "source": [
    "# Import Crime data set\n",
    "import pandas as pd\n",
    "import numpy as np\n",
    "import seaborn as sns\n",
    "%matplotlib inline\n",
    "import matplotlib.pyplot as plt\n",
    "from __future__ import print_function\n",
    "\n",
    "# read in the csv file\n",
    "df = pd.read_csv('data/Police_Incidents.csv')\n",
    "\n",
    "# Reference: http://stackoverflow.com/questions/11346283/renaming-columns-in-pandas\n",
    "# Removing spaces from headers\n",
    "\n",
    "df.columns = [x.strip().replace(' ', '') for x in df.columns]\n",
    "df.columns = [x.strip().replace('/', '') for x in df.columns]\n",
    "df.columns = [x.strip().replace('(', '') for x in df.columns]\n",
    "df.columns = [x.strip().replace(')', '') for x in df.columns]\n",
    "df.columns = [x.strip().replace('-', '') for x in df.columns]\n",
    "\n",
    "#df.head()"
   ]
  },
  {
   "cell_type": "code",
   "execution_count": 139,
   "metadata": {
    "collapsed": true
   },
   "outputs": [],
   "source": [
    "#Subset the dataset to year 2016\n",
    "# Reference: http://stackoverflow.com/questions/18172851/deleting-dataframe-row-in-pandas-based-on-column-value\n",
    "\n",
    "df = df[df.Year1ofOccurrence == 2016]"
   ]
  },
  {
   "cell_type": "code",
   "execution_count": 140,
   "metadata": {
    "collapsed": false
   },
   "outputs": [
    {
     "name": "stdout",
     "output_type": "stream",
     "text": [
      "<class 'pandas.core.frame.DataFrame'>\n",
      "Int64Index: 99341 entries, 0 to 196036\n",
      "Data columns (total 12 columns):\n",
      "Watch                    99341 non-null object\n",
      "PenaltyClass             84593 non-null object\n",
      "Division                 99321 non-null object\n",
      "Month1ofOccurence        99341 non-null object\n",
      "Day1oftheWeek            99341 non-null object\n",
      "Time1ofOccurrence        99341 non-null object\n",
      "CallReceivedDateTime     99328 non-null object\n",
      "CallClearedDateTime      99310 non-null object\n",
      "CallDispatchDateTime     99319 non-null object\n",
      "UCROffenseDescription    99341 non-null object\n",
      "GangRelatedOffense       99339 non-null object\n",
      "DrugRelatedIncident      99339 non-null object\n",
      "dtypes: object(12)\n",
      "memory usage: 9.9+ MB\n",
      "None\n"
     ]
    }
   ],
   "source": [
    "# Narrowing down our focus to the attributes mentioned in the Dataset \n",
    "# description by removing columns not used in analysis\n",
    "\n",
    "for col in ['OffenseServiceNumber','ServiceNumberID','ReportingArea','Beat','Sector','CouncilDistrict',\n",
    "            'DPDSwornMarshallsinvolved','ComplainantHomeAddress','ComplainantApartment','ComplainantZipCode',\n",
    "            'ComplainantCity','ComplainantState','ComplainantBusinessName','ComplainantBusinessAddress',\n",
    "            'YearAssignment','Weather','RespondingOfficer#1BadgeNo','RespondingOfficer#1Name','RespondingOfficer#2BadgeNo',\n",
    "            'RespondingOfficer#2Name','ReportingOfficerBadgeNo','AssistingOfficerBadgeNo','ReviewingOfficerBadgeNo',\n",
    "            'ElementNumberAssigned','InvestigatingUnit1','InvestigatingUnit2','SpecialReportPreRMS','UCRDisposition',\n",
    "            'UCR1','UCR2PreRMS','FinalUCR','RMSCode','CJISCode','PenalCode','HateCrime','VictimPackage', 'UpdateDate',\n",
    "            'ModusOperandiMO', 'OffenseCodeCC', 'VictimInjuryDescription', 'OffenseStatus', \n",
    "            'ComplainantAgeatOffense', 'ComplainantAge', 'ComplainantGender', 'ComplainantRace', 'ComplainantName',\n",
    "           'OffenseEnteredDateTime', 'OffenseEnteredTime', 'OffenseEnteredDayoftheWeek', 'OffenseEnteredMonth', \n",
    "            'OffenseEnteredYear', 'Dateincidentcreated', 'MapDate', 'Day2oftheYear','IncidentNumberwoYear', 'YearofIncident',\n",
    "           'IncidentNumberwYear', 'Call911Problem', 'StreetBlock', 'StreetDirection', 'StreetName', \n",
    "           'IncidentAddress', 'ApartmentNumber', 'ZipCode', 'City', 'State', 'XCoordinate', 'YCoordinate', 'TargetAreaActionGrids', \n",
    "           'Community', 'Date1ofOccurrence', 'Date2ofOccurrence', 'Year2ofOccurrence', 'Month2ofOccurence', 'Day2oftheWeek', \n",
    "            'Time2ofOccurrence', 'StartingDateTime', 'EndingDateTime', 'DateofReport','CallDateTime',\n",
    "            'TypeofProperty', 'IncidentNumberwYear', 'Year1ofOccurrence', 'Day1oftheYear', 'TypeofIncident','UCROffenseName',\n",
    "           'OffenseType','FamilyOffense','PersonInvolvementType','TypeofLocation','VictimCondition']:\n",
    "    if col in df:\n",
    "        del df[col]\n",
    "        \n",
    "#Let's get the specs of our subsetted data:\n",
    "print (df.info())       "
   ]
  },
  {
   "cell_type": "code",
   "execution_count": 141,
   "metadata": {
    "collapsed": false
   },
   "outputs": [
    {
     "data": {
      "text/html": [
       "<div>\n",
       "<table border=\"1\" class=\"dataframe\">\n",
       "  <thead>\n",
       "    <tr style=\"text-align: right;\">\n",
       "      <th></th>\n",
       "      <th>Watch</th>\n",
       "      <th>PenaltyClass</th>\n",
       "      <th>Division</th>\n",
       "      <th>Month1ofOccurence</th>\n",
       "      <th>Day1oftheWeek</th>\n",
       "      <th>Time1ofOccurrence</th>\n",
       "      <th>CallReceivedDateTime</th>\n",
       "      <th>CallClearedDateTime</th>\n",
       "      <th>CallDispatchDateTime</th>\n",
       "      <th>UCROffenseDescription</th>\n",
       "      <th>GangRelatedOffense</th>\n",
       "      <th>DrugRelatedIncident</th>\n",
       "    </tr>\n",
       "  </thead>\n",
       "  <tbody>\n",
       "    <tr>\n",
       "      <th>0</th>\n",
       "      <td>3</td>\n",
       "      <td>NaN</td>\n",
       "      <td>Central</td>\n",
       "      <td>December</td>\n",
       "      <td>Sat</td>\n",
       "      <td>23:30</td>\n",
       "      <td>12/31/2016 11:48:58 PM</td>\n",
       "      <td>01/01/2017 03:16:32 AM</td>\n",
       "      <td>12/31/2016 11:48:58 PM</td>\n",
       "      <td>CRIMINAL MISCHIEF/VANDALISM</td>\n",
       "      <td>UNK</td>\n",
       "      <td>UNK</td>\n",
       "    </tr>\n",
       "    <tr>\n",
       "      <th>1</th>\n",
       "      <td>3</td>\n",
       "      <td>NaN</td>\n",
       "      <td>Central</td>\n",
       "      <td>December</td>\n",
       "      <td>Sat</td>\n",
       "      <td>23:30</td>\n",
       "      <td>12/31/2016 11:48:58 PM</td>\n",
       "      <td>01/01/2017 03:16:32 AM</td>\n",
       "      <td>12/31/2016 11:48:58 PM</td>\n",
       "      <td>CRIMINAL MISCHIEF/VANDALISM</td>\n",
       "      <td>UNK</td>\n",
       "      <td>UNK</td>\n",
       "    </tr>\n",
       "    <tr>\n",
       "      <th>2</th>\n",
       "      <td>3</td>\n",
       "      <td>NaN</td>\n",
       "      <td>Central</td>\n",
       "      <td>December</td>\n",
       "      <td>Sat</td>\n",
       "      <td>23:30</td>\n",
       "      <td>12/31/2016 11:48:58 PM</td>\n",
       "      <td>01/01/2017 03:16:32 AM</td>\n",
       "      <td>12/31/2016 11:48:58 PM</td>\n",
       "      <td>CRIMINAL MISCHIEF/VANDALISM</td>\n",
       "      <td>UNK</td>\n",
       "      <td>UNK</td>\n",
       "    </tr>\n",
       "    <tr>\n",
       "      <th>3</th>\n",
       "      <td>U</td>\n",
       "      <td>MB</td>\n",
       "      <td>NorthEast</td>\n",
       "      <td>December</td>\n",
       "      <td>Thu</td>\n",
       "      <td>12:00</td>\n",
       "      <td>01/02/2017 02:39:45 PM</td>\n",
       "      <td>01/02/2017 09:59:27 PM</td>\n",
       "      <td>01/02/2017 02:39:45 PM</td>\n",
       "      <td>CRIMINAL MISCHIEF/VANDALISM</td>\n",
       "      <td>UNK</td>\n",
       "      <td>UNK</td>\n",
       "    </tr>\n",
       "    <tr>\n",
       "      <th>5</th>\n",
       "      <td>3</td>\n",
       "      <td>MA</td>\n",
       "      <td>SouthEast</td>\n",
       "      <td>December</td>\n",
       "      <td>Sat</td>\n",
       "      <td>23:20</td>\n",
       "      <td>12/31/2016 11:20:39 PM</td>\n",
       "      <td>01/01/2017 01:27:25 AM</td>\n",
       "      <td>12/31/2016 11:24:31 PM</td>\n",
       "      <td>ASSAULT</td>\n",
       "      <td>No</td>\n",
       "      <td>No</td>\n",
       "    </tr>\n",
       "  </tbody>\n",
       "</table>\n",
       "</div>"
      ],
      "text/plain": [
       "  Watch PenaltyClass   Division Month1ofOccurence Day1oftheWeek  \\\n",
       "0     3          NaN    Central          December           Sat   \n",
       "1     3          NaN    Central          December           Sat   \n",
       "2     3          NaN    Central          December           Sat   \n",
       "3     U           MB  NorthEast          December           Thu   \n",
       "5     3           MA  SouthEast          December           Sat   \n",
       "\n",
       "  Time1ofOccurrence    CallReceivedDateTime     CallClearedDateTime  \\\n",
       "0             23:30  12/31/2016 11:48:58 PM  01/01/2017 03:16:32 AM   \n",
       "1             23:30  12/31/2016 11:48:58 PM  01/01/2017 03:16:32 AM   \n",
       "2             23:30  12/31/2016 11:48:58 PM  01/01/2017 03:16:32 AM   \n",
       "3             12:00  01/02/2017 02:39:45 PM  01/02/2017 09:59:27 PM   \n",
       "5             23:20  12/31/2016 11:20:39 PM  01/01/2017 01:27:25 AM   \n",
       "\n",
       "     CallDispatchDateTime        UCROffenseDescription GangRelatedOffense  \\\n",
       "0  12/31/2016 11:48:58 PM  CRIMINAL MISCHIEF/VANDALISM                UNK   \n",
       "1  12/31/2016 11:48:58 PM  CRIMINAL MISCHIEF/VANDALISM                UNK   \n",
       "2  12/31/2016 11:48:58 PM  CRIMINAL MISCHIEF/VANDALISM                UNK   \n",
       "3  01/02/2017 02:39:45 PM  CRIMINAL MISCHIEF/VANDALISM                UNK   \n",
       "5  12/31/2016 11:24:31 PM                      ASSAULT                 No   \n",
       "\n",
       "  DrugRelatedIncident  \n",
       "0                 UNK  \n",
       "1                 UNK  \n",
       "2                 UNK  \n",
       "3                 UNK  \n",
       "5                  No  "
      ]
     },
     "execution_count": 141,
     "metadata": {},
     "output_type": "execute_result"
    }
   ],
   "source": [
    "df.head()"
   ]
  },
  {
   "cell_type": "code",
   "execution_count": 142,
   "metadata": {
    "collapsed": true
   },
   "outputs": [],
   "source": [
    "# Reference: http://stackoverflow.com/questions/16852911/how-do-i-convert-dates-in-a-pandas-data-frame-to-a-date-data-type\n",
    "df['CallReceivedDateTime'] = pd.to_datetime(df['CallReceivedDateTime'])\n",
    "df['CallClearedDateTime'] = pd.to_datetime(df['CallClearedDateTime'])\n",
    "df['CallDispatchDateTime'] = pd.to_datetime(df['CallDispatchDateTime'])"
   ]
  },
  {
   "cell_type": "code",
   "execution_count": 143,
   "metadata": {
    "collapsed": false
   },
   "outputs": [],
   "source": [
    "# Compute the time between call received and call displatched, call Displatch and call cleared.\n",
    "# Reference: http://www.itgo.me/a/x791470639852744898/calculate-pandas-dataframe-time-difference-between-two-columns-in-hours-and-minu\n",
    "df['rec_disp_time_m'] = (df['CallDispatchDateTime'] - df['CallReceivedDateTime']).astype('timedelta64[m]')\n",
    "df['disp_clear_time_m'] = (df['CallClearedDateTime'] - df['CallDispatchDateTime']).astype('timedelta64[m]')\n",
    "\n",
    "# Create Hour of Occurrence from Time Occurrence \n",
    "# Ref: http://stackoverflow.com/questions/25789445/pandas-make-new-column-from-string-slice-of-another-column\n",
    "df['Hour'] = df.Time1ofOccurrence.str[:2]\n",
    "df['Hour'] = (df['Hour']).astype('int64')\n",
    "\n",
    "# Retrieve panalty class as only f for felony or M misdemeanor\n",
    "df['Penalty'] = df.PenaltyClass.str[:1]\n",
    "\n",
    "# Change day of week to indicate weekend day.  \n",
    "df['IsWeekend'] = (df['Day1oftheWeek'] == 'Sat') | (df['Day1oftheWeek'] == 'Fri') | (df['Day1oftheWeek'] == 'Sun')\n",
    "df.IsWeekend = df.IsWeekend.astype(np.int)\n",
    "\n",
    "# change Gang Related attribute to a more usable value\n",
    "df['IsGangRelated'] = df.GangRelatedOffense == 'Yes'\n",
    "df.IsGangRelated = df.IsGangRelated.astype(np.int)\n",
    "\n",
    "# change Drug Related attribute to a more usable value\n",
    "df['IsDrugRelated'] = df.DrugRelatedIncident == 'Yes'\n",
    "df.IsDrugRelated = df.IsDrugRelated.astype(np.int)\n",
    "        \n",
    "# Remove call datetime call columns\n",
    "for col in ['CallReceivedDateTime','CallClearedDateTime','CallDispatchDateTime','Time1ofOccurrence',\n",
    "            'PenaltyClass','Day1oftheWeek','GangRelatedOffense','DrugRelatedIncident']:\n",
    "    if col in df:\n",
    "        del df[col]\n",
    "        \n",
    "#df.head()"
   ]
  },
  {
   "cell_type": "code",
   "execution_count": 149,
   "metadata": {
    "collapsed": true
   },
   "outputs": [],
   "source": [
    "df.to_csv('Police_Incidents_mini.csv', sep=',', encoding='utf-8')"
   ]
  },
  {
   "cell_type": "code",
   "execution_count": 144,
   "metadata": {
    "collapsed": false
   },
   "outputs": [
    {
     "name": "stdout",
     "output_type": "stream",
     "text": [
      "<class 'pandas.core.frame.DataFrame'>\n",
      "Int64Index: 99341 entries, 0 to 196036\n",
      "Data columns (total 11 columns):\n",
      "Watch                    99341 non-null object\n",
      "Division                 99321 non-null object\n",
      "Month1ofOccurence        99341 non-null object\n",
      "UCROffenseDescription    99341 non-null object\n",
      "rec_disp_time_m          99319 non-null float64\n",
      "disp_clear_time_m        99301 non-null float64\n",
      "Hour                     99341 non-null int64\n",
      "Penalty                  84593 non-null object\n",
      "IsWeekend                99341 non-null int64\n",
      "IsGangRelated            99341 non-null int64\n",
      "IsDrugRelated            99341 non-null int64\n",
      "dtypes: float64(2), int64(4), object(5)\n",
      "memory usage: 9.1+ MB\n"
     ]
    }
   ],
   "source": [
    "df.info()"
   ]
  },
  {
   "cell_type": "code",
   "execution_count": 147,
   "metadata": {
    "collapsed": false
   },
   "outputs": [],
   "source": [
    "# creating missing values grouping by day of week and watch\n",
    "df_grouped = df.groupby(by=['Month1ofOccurence','Watch'])\n",
    "\n",
    "# now use this grouping to fill the data set in each group, then transform back\n",
    "# fill in the numeric values\n",
    "df_imputed = df_grouped.transform(lambda grp: grp.fillna(grp.median()))\n",
    "\n",
    "# fill in the categorical values\n",
    "df_imputed[['Division','Penalty']] = df_grouped[['Division','Penalty']].apply(lambda grp: grp.fillna(grp.mode()))\n",
    "\n",
    "# filling the grouped variables from original data frame\n",
    "df_imputed[['Month1ofOccurence','Watch']] = df[['Month1ofOccurence','Watch']]\n"
   ]
  },
  {
   "cell_type": "code",
   "execution_count": 152,
   "metadata": {
    "collapsed": true
   },
   "outputs": [],
   "source": [
    "df_imputed.to_csv('Police_Incidents_imputed.csv', sep=',', encoding='utf-8')"
   ]
  },
  {
   "cell_type": "code",
   "execution_count": 148,
   "metadata": {
    "collapsed": false
   },
   "outputs": [
    {
     "name": "stdout",
     "output_type": "stream",
     "text": [
      "<class 'pandas.core.frame.DataFrame'>\n",
      "Int64Index: 99341 entries, 0 to 196036\n",
      "Data columns (total 10 columns):\n",
      "rec_disp_time_m      99341 non-null float64\n",
      "disp_clear_time_m    99341 non-null float64\n",
      "Hour                 99341 non-null int64\n",
      "IsWeekend            99341 non-null int64\n",
      "IsGangRelated        99341 non-null int64\n",
      "IsDrugRelated        99341 non-null int64\n",
      "Division             99321 non-null object\n",
      "Penalty              84594 non-null object\n",
      "Month1ofOccurence    99341 non-null object\n",
      "Watch                99341 non-null object\n",
      "dtypes: float64(2), int64(4), object(4)\n",
      "memory usage: 8.3+ MB\n"
     ]
    }
   ],
   "source": [
    "df_imputed.info()"
   ]
  },
  {
   "cell_type": "code",
   "execution_count": null,
   "metadata": {
    "collapsed": true
   },
   "outputs": [],
   "source": []
  }
 ],
 "metadata": {
  "kernelspec": {
   "display_name": "Python [default]",
   "language": "python",
   "name": "python3"
  },
  "language_info": {
   "codemirror_mode": {
    "name": "ipython",
    "version": 3
   },
   "file_extension": ".py",
   "mimetype": "text/x-python",
   "name": "python",
   "nbconvert_exporter": "python",
   "pygments_lexer": "ipython3",
   "version": "3.5.2"
  }
 },
 "nbformat": 4,
 "nbformat_minor": 1
}
